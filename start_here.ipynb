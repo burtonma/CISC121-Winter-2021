{
 "cells": [
  {
   "cell_type": "markdown",
   "metadata": {},
   "source": [
    "# CISC121 Jupyter notebooks\n",
    "\n",
    "This page serves as the index for all of the Jupyter notebook files used in the course. This page will be updated weekly.\n",
    "\n",
    "* [Week 01](./week01.ipynb)\n",
    "    * [Week 01 with solutions](./week01_with_solutions.ipynb)\n",
    "* [Week 02](./week02.ipynb)\n",
    "    * [Week 02 with solutions](./week02_with_solutions.ipynb)\n",
    "* [Week 03](./week03.ipynb)\n",
    "    * [Week 03 with solutions](./week03_with_solutions.ipynb)\n",
    "* [Week 04](./week04.ipynb)\n",
    "    * [Week 04 with solutions](./week04_with_solutions.ipynb)\n",
    "* Week 05\n",
    "    * [Functions: Contracts](./week05_contracts.ipynb)\n",
    "        * [Functions: Contracts with solutions](./week05_contracts_with_solutions.ipynb)\n",
    "    * [Functions: Input Validation](./week05_input_validation.ipynb)\n",
    "        * [Functions: Input Validation with solutions](./week05_input_validation_with_solutions.ipynb)\n",
    "    * [Functions: Documentation](./week05_docstrings.ipynb)\n",
    "        * [Functions: Documentation with solutions](./week05_docstrings_with_solutions.ipynb)\n",
    "* [Week 06: Unit Testing](./week06_unit_testing.ipynb)\n",
    "    * [Week 06: Unit Testing with solutions](./week06_unit_testing_with_solutions.ipynb)\n",
    "* [Week 07: Recursion](./week07_recursion.ipynb)\n",
    "* [Week 08: Computational Complexity](./week08_complexity.ipynb)\n",
    "* [Week 09: Searching and Sorting](./week09_searching_sorting.ipynb)"
   ]
  },
  {
   "cell_type": "code",
   "execution_count": null,
   "metadata": {},
   "outputs": [],
   "source": []
  }
 ],
 "metadata": {
  "kernelspec": {
   "display_name": "Python 3",
   "language": "python",
   "name": "python3"
  },
  "language_info": {
   "codemirror_mode": {
    "name": "ipython",
    "version": 3
   },
   "file_extension": ".py",
   "mimetype": "text/x-python",
   "name": "python",
   "nbconvert_exporter": "python",
   "pygments_lexer": "ipython3",
   "version": "3.8.3"
  }
 },
 "nbformat": 4,
 "nbformat_minor": 4
}
