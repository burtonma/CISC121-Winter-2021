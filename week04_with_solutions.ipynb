{
 "cells": [
  {
   "cell_type": "markdown",
   "metadata": {},
   "source": [
    "# Week 04 Python nested lists"
   ]
  },
  {
   "cell_type": "markdown",
   "metadata": {},
   "source": [
    "## Nested lists\n",
    "\n",
    "What the textbook calls a two-dimensional array is a nested list in Python; in other words,\n",
    "a two-dimensional array is a Python list where the elements are lists.\n",
    "\n",
    "Without using a library, the programmer can create a two-dimensional array filled with \n",
    "the same value using a loop:"
   ]
  },
  {
   "cell_type": "code",
   "execution_count": null,
   "metadata": {},
   "outputs": [],
   "source": [
    "rows = 5\n",
    "cols = 8\n",
    "a = []\n",
    "for i in range(0, rows):\n",
    "    row = [0] * cols      # create a new list of 0s\n",
    "    a.append(row)\n",
    "print(a)"
   ]
  },
  {
   "cell_type": "markdown",
   "metadata": {},
   "source": [
    "Simply change the `0` in `[0]` to a diffferent value if you want to fill the array with a\n",
    "different value."
   ]
  },
  {
   "cell_type": "markdown",
   "metadata": {},
   "source": [
    "The textbook library function `stdarray.create2D` is useful for creating two-dimensional\n",
    "arrays. The following example creates a two-dimensional array having 5 rows and 8 columns\n",
    "where all of the elements are set to zero:"
   ]
  },
  {
   "cell_type": "code",
   "execution_count": null,
   "metadata": {},
   "outputs": [],
   "source": [
    "# Lines 2 and 3 are needed to tell Jupyter where to find the book libraries\n",
    "import sys  \n",
    "sys.path.insert(0, 'lib/introcs-1.0')\n",
    "\n",
    "import stdarray\n",
    "\n",
    "rows = 5\n",
    "cols = 8\n",
    "a = stdarray.create2D(rows, cols, 0.0)\n",
    "print(a)"
   ]
  },
  {
   "cell_type": "markdown",
   "metadata": {},
   "source": [
    "If you run the previous cell you will notice that printing a two-dimensional array\n",
    "prints all of the lists on the same line. It is often useful to print the array with\n",
    "one list per line. This can be done using a loop:"
   ]
  },
  {
   "cell_type": "code",
   "execution_count": null,
   "metadata": {},
   "outputs": [],
   "source": [
    "rows = 5\n",
    "cols = 8\n",
    "a = stdarray.create2D(rows, cols, 0.0)\n",
    "for row in a:\n",
    "    print(row)"
   ]
  },
  {
   "cell_type": "markdown",
   "metadata": {},
   "source": [
    "If you know the number of rows in the two-dimensional array and if the number of rows is\n",
    "small then you could print the array like so:"
   ]
  },
  {
   "cell_type": "code",
   "execution_count": null,
   "metadata": {},
   "outputs": [],
   "source": [
    "rows = 5\n",
    "cols = 8\n",
    "a = stdarray.create2D(rows, cols, 0.0)\n",
    "print(a[0], a[1], a[2], a[3], a[4], sep = '\\n')"
   ]
  },
  {
   "cell_type": "markdown",
   "metadata": {},
   "source": [
    "The approach shown in the previous cell uses the fact that the `print` function will\n",
    "accept an unlimited number of arguments separated by commas. The `print` function prints\n",
    "each argument separated by a space character (by default) or with the specificed\n",
    "separator string `sep` if `sep` is included by the caller. In the above example, `print`\n",
    "prints each row of the array followed separated by a newline.\n",
    "\n",
    "In the above example, we've manually specified the list elements (or rows). This is\n",
    "referred to as *unpacking* the list. Unpacking a sequence is a common enough operation\n",
    "that Python provides a way to do so automatically: Prefixing the sequence with an\n",
    "asterisk, `*`, unpacks a sequence when passing the sequence to a function:"
   ]
  },
  {
   "cell_type": "code",
   "execution_count": null,
   "metadata": {},
   "outputs": [],
   "source": [
    "rows = 5\n",
    "cols = 8\n",
    "a = stdarray.create2D(rows, cols, 0.0)\n",
    "print(*a, sep = '\\n')    # unpack a when passing it to the print function"
   ]
  },
  {
   "cell_type": "markdown",
   "metadata": {},
   "source": [
    "The prefix-`*` operator works with any sequence; for example, we can print the characters \n",
    "of a string on separate lines like so:"
   ]
  },
  {
   "cell_type": "code",
   "execution_count": null,
   "metadata": {},
   "outputs": [],
   "source": [
    "print(*'hello', sep = '\\n')"
   ]
  },
  {
   "cell_type": "markdown",
   "metadata": {},
   "source": [
    "# How not to make a two-dimensional array\n",
    "\n",
    "In the previous notebook, it was stated that the programmer could create a list with $n$\n",
    "copies of an *immutable type* using the infix `*` operator:"
   ]
  },
  {
   "cell_type": "code",
   "execution_count": null,
   "metadata": {},
   "outputs": [],
   "source": [
    "cols = 8\n",
    "one_row = [0] * cols\n",
    "print(one_row)"
   ]
  },
  {
   "cell_type": "markdown",
   "metadata": {},
   "source": [
    "Running the previous cell creates a list having eight zeros. The curious reader might ask\n",
    "if the same technique can be applied to create a two-dimensional array; the answer appears\n",
    "at first to be 'yes':"
   ]
  },
  {
   "cell_type": "code",
   "execution_count": null,
   "metadata": {},
   "outputs": [],
   "source": [
    "rows = 5\n",
    "cols = 8\n",
    "arr = [[0] * cols] * rows\n",
    "print(*arr, sep = '\\n')"
   ]
  },
  {
   "cell_type": "markdown",
   "metadata": {},
   "source": [
    "The problem with this approach is that a two-dimensional array is a list where the\n",
    "elements are also lists. A list is not immutable, therefore the above approach produces\n",
    "a result that is almost never what the programmer intended.\n",
    "\n",
    "Run the following cell to see why the resulting two-dimensional array is probably not \n",
    "what the programmer wanted:"
   ]
  },
  {
   "cell_type": "code",
   "execution_count": null,
   "metadata": {},
   "outputs": [],
   "source": [
    "rows = 5\n",
    "cols = 8\n",
    "arr = [[0] * cols] * rows\n",
    "print('array: ', *arr, sep = '\\n')\n",
    "\n",
    "arr[0][7] = 99     # change last element of first row?\n",
    "print('array: ', *arr, sep = '\\n')"
   ]
  },
  {
   "cell_type": "markdown",
   "metadata": {},
   "source": [
    "Changing one element in the first row of the array causes the corresponding element \n",
    "in all of the other rows to also change. This is because an expression like\n",
    "\n",
    "```python\n",
    "[9999] * n\n",
    "```\n",
    "\n",
    "does not make a list containing $n$ new objects; it makes a list containing $n$ references\n",
    "*to the same object*. Run the following cell to prove that this is in fact the case:"
   ]
  },
  {
   "cell_type": "code",
   "execution_count": null,
   "metadata": {},
   "outputs": [],
   "source": [
    "t = [9999] * 3     # list [9999, 9999, 9999]\n",
    "print(t[0] is t[1])     # is the first element the same object as the second?\n",
    "print(t[0] is t[2])     # is the first element the same object as the third?"
   ]
  },
  {
   "cell_type": "markdown",
   "metadata": {},
   "source": [
    "When we make a two-dimensional array using a program such as:\n",
    "\n",
    "```python\n",
    "rows = 5\n",
    "cols = 8\n",
    "arr = [[0] * cols] * rows\n",
    "```\n",
    "\n",
    "we do not end up with a list containing five references to independent list objects; we\n",
    "end up with a list containing five refrences to the same list object. Run the following\n",
    "cell to prove that this is in fact the case:"
   ]
  },
  {
   "cell_type": "code",
   "execution_count": null,
   "metadata": {},
   "outputs": [],
   "source": [
    "rows = 5\n",
    "cols = 8\n",
    "arr = [[0] * cols] * rows\n",
    "print(arr[0] is arr[1])    # is the first element the same object as the second?\n",
    "print(arr[0] is arr[2])    # is the first element the same object as the third?\n",
    "print(arr[0] is arr[3])    # is the first element the same object as the fourth?\n",
    "print(arr[0] is arr[4])    # is the first element the same object as the fifth?"
   ]
  },
  {
   "cell_type": "markdown",
   "metadata": {},
   "source": [
    "## Exercises\n",
    "\n",
    "1. Without making any new lists, modify the two-dimensional array `a` so that every\n",
    "odd-index row is made up of ones instead of zeros."
   ]
  },
  {
   "cell_type": "code",
   "execution_count": null,
   "metadata": {},
   "outputs": [],
   "source": [
    "# Exercise 1\n",
    "rows = 5\n",
    "cols = 8\n",
    "a = []\n",
    "for i in range(0, rows):\n",
    "    row = [0] * cols      # create a new list of 0s\n",
    "    a.append(row)\n",
    "\n",
    "for i in range(1, rows, 2):     # starts at 1 for odd-index rows\n",
    "    for j in range(0, cols):\n",
    "        a[i][j] = 1\n",
    "        \n",
    "print(*a, sep = '\\n')"
   ]
  },
  {
   "cell_type": "markdown",
   "metadata": {},
   "source": [
    "2. Without making any new lists, modify the two-dimensional array `a` so that every\n",
    "odd-index column is made up of ones instead of zeros."
   ]
  },
  {
   "cell_type": "code",
   "execution_count": null,
   "metadata": {},
   "outputs": [],
   "source": [
    "# Exercise 2\n",
    "rows = 5\n",
    "cols = 8\n",
    "a = []\n",
    "for i in range(0, rows):\n",
    "    row = [0] * cols      # create a new list of 0s\n",
    "    a.append(row)\n",
    "\n",
    "for i in range(0, rows):\n",
    "    for j in range(1, cols, 2):    # starts at 1 for odd-index columns\n",
    "        a[i][j] = 1\n",
    "        \n",
    "print(*a, sep = '\\n')"
   ]
  },
  {
   "cell_type": "markdown",
   "metadata": {},
   "source": [
    "3. Without making any new lists, modify the two-dimensional array `a` so that the elements\n",
    "form a checkerboard pattern of zeros and ones. The element `a[0][0]` should be equal to\n",
    "`0`."
   ]
  },
  {
   "cell_type": "code",
   "execution_count": null,
   "metadata": {},
   "outputs": [],
   "source": [
    "# Exercise 3\n",
    "rows = 5\n",
    "cols = 8\n",
    "a = []\n",
    "for i in range(0, rows):\n",
    "    row = [0] * cols      # create a new list of 0s\n",
    "    a.append(row)\n",
    "\n",
    "for i in range(0, rows):\n",
    "    for j in range(0, cols):\n",
    "        if (i + j) % 2 != 0:    # sum of indexes is odd, alternatively use if either index is odd\n",
    "            a[i][j] = 1\n",
    "        \n",
    "print(*a, sep = '\\n')"
   ]
  },
  {
   "cell_type": "markdown",
   "metadata": {},
   "source": [
    "4. Without modifying the two-dimensional array `a` write a short program that returns \n",
    "a new two-dimensional array equal to the upper-left $n \\times n$ block of values in\n",
    "the array `a`. You may assume that $n$ is less than the number of rows and less than \n",
    "the number of columns of `a`."
   ]
  },
  {
   "cell_type": "code",
   "execution_count": null,
   "metadata": {},
   "outputs": [],
   "source": [
    "# Exercise 4\n",
    "import random\n",
    "\n",
    "rows = 10\n",
    "cols = 10\n",
    "a = []\n",
    "for i in range(0, rows):\n",
    "    row = [0] * cols      # create a new list of 0s\n",
    "    a.append(row)\n",
    "for r in range(0, rows):\n",
    "    for c in range(0, cols):\n",
    "        a[r][c] = random.randint(0, 10)\n",
    "print(*a, sep = '\\n')\n",
    "\n",
    "n = 3     # try different values of n\n",
    "b = []\n",
    "for i in range(0, n):\n",
    "    b.append(a[i][0:n])\n",
    "print(*b, sep = '\\n')"
   ]
  },
  {
   "cell_type": "markdown",
   "metadata": {},
   "source": [
    "5. Without modifying the two-dimensional array `a` write a short program that returns \n",
    "a new two-dimensional array equal to the bottom-right $n \\times n$ block of values in\n",
    "the array `a`. You may assume that $n$ is less than the number of rows and less than \n",
    "the number of columns of `a`."
   ]
  },
  {
   "cell_type": "code",
   "execution_count": null,
   "metadata": {},
   "outputs": [],
   "source": [
    "# Exercise 5\n",
    "import random\n",
    "\n",
    "rows = 10\n",
    "cols = 10\n",
    "a = []\n",
    "for i in range(0, rows):\n",
    "    row = [0] * cols      # create a new list of 0s\n",
    "    a.append(row)\n",
    "for r in range(0, rows):\n",
    "    for c in range(0, cols):\n",
    "        a[r][c] = random.randint(0, 10)\n",
    "print(*a, sep = '\\n')\n",
    "\n",
    "n = 3     # try different values of n\n",
    "b = []\n",
    "for i in range(0, n):\n",
    "    b.append(a[len(a) - 3 + i][-3:])\n",
    "print(*b, sep = '\\n')"
   ]
  },
  {
   "cell_type": "markdown",
   "metadata": {},
   "source": [
    "6. Consider a social networking service where members of the service can be friends with other members.\n",
    "We can represent the relationships among friends using a figure such as the one shown below:\n",
    "\n",
    "```\n",
    "# | 0  1  2  3  4\n",
    "--+---------------\n",
    "0 |    *       \n",
    "1 | *     *     *\n",
    "2 |    *     *  *\n",
    "3 |       *     *\n",
    "4 |    *  *  *\n",
    "```\n",
    "\n",
    "In the example figure, each row and column represents a user (numbered 0 through 4). A `*` indicates a \n",
    "friend relationship;\n",
    "for example user 0 is friends with users 1 and 3. Notice that friendship is a two-way relationship so\n",
    "users 1 and 3 are also friends with user 0. Also notice that a user is not considered to be a friend\n",
    "to themselves.\n",
    "\n",
    "Write a program that generates a random two-dimensional array representing the friendship relationships\n",
    "among $n$ users. The array should hold the values `True` and `False` where `True` indicates that a\n",
    "friendship relationship exists betwen two users."
   ]
  },
  {
   "cell_type": "code",
   "execution_count": null,
   "metadata": {},
   "outputs": [],
   "source": [
    "# Exercise 6\n",
    "import random\n",
    "\n",
    "n = 5\n",
    "a = []\n",
    "for i in range(0, n):\n",
    "    row = [False] * n\n",
    "    a.append(row)\n",
    "for i in range(0, n - 1):\n",
    "    for j in range(i + 1, n):\n",
    "        a[i][j] = random.choice([True, False])\n",
    "        a[j][i] = a[i][j]\n",
    "print(*a, sep = '\\n')"
   ]
  },
  {
   "cell_type": "markdown",
   "metadata": {},
   "source": [
    "7. Given an array from your solution to Exercise 6, write a program that prints the friendship array in a way\n",
    "similar to what is shown in Exercise 6."
   ]
  },
  {
   "cell_type": "code",
   "execution_count": null,
   "metadata": {},
   "outputs": [],
   "source": [
    "# Exercise 7\n",
    "# run Exercise 6 first to get an array a\n",
    "print('# | ', end = '')\n",
    "for i in range(0, n):\n",
    "    print(i, ' ', end = '')\n",
    "print()\n",
    "print('--+', end = '')\n",
    "for i in range(0, n):\n",
    "    print('---', end = '')\n",
    "print()\n",
    "for i in range(0, n):\n",
    "    print(i, '| ', end = '')\n",
    "    for j in range(0, n):\n",
    "        if a[i][j]:\n",
    "            print('*', ' ', end = '')\n",
    "        else:\n",
    "            print(' ', ' ', end = '')\n",
    "    print()"
   ]
  },
  {
   "cell_type": "markdown",
   "metadata": {},
   "source": [
    "8. Given an array from your solution to Exercise 6, write a program that counts and prints the number of \n",
    "different pairs of friends encoded by the array."
   ]
  },
  {
   "cell_type": "code",
   "execution_count": null,
   "metadata": {},
   "outputs": [],
   "source": [
    "# Exercise 8\n",
    "# run Exercise 6 first to get an array a\n",
    "\n",
    "# Either count the number of True values in a and then divide by 2, or\n",
    "# count the number True values above the main diagonal\n",
    "pairs = 0\n",
    "for i in range(0, n - 1):\n",
    "    for j in range(i + 1, n):\n",
    "        if a[i][j]:\n",
    "            pairs += 1\n",
    "print(pairs, 'pairs of friends')"
   ]
  },
  {
   "cell_type": "markdown",
   "metadata": {},
   "source": [
    "9. Given an array from your solution to Exercise 6, write a program that counts the number of friends in common\n",
    "that two different users have. For example, in the example array shown in Exercise 6:\n",
    " * users 0 and 1 have zero friends in common\n",
    " * users 1 and 2 have one friend in common (user 4).\n",
    " * users 2 and 4 have two friends in common (users 1 and 3)"
   ]
  },
  {
   "cell_type": "code",
   "execution_count": null,
   "metadata": {},
   "outputs": [],
   "source": [
    "# Exercise 9\n",
    "# run Exercise 6 first to get an array a\n",
    "\n",
    "# For two users u1 and u2,\n",
    "# count the number of corresponding elements that are True in both rows u1 and row u2\n",
    "# (or use columns u1 and u2)\n",
    "\n",
    "u1 = 0\n",
    "u2 = 1\n",
    "count = 0\n",
    "for i in range(0, n):\n",
    "    if a[u1][i] and a[u2][i]:\n",
    "        count += 1\n",
    "print(u1, 'and', u2, 'have', count, 'friends in common')"
   ]
  },
  {
   "cell_type": "code",
   "execution_count": null,
   "metadata": {},
   "outputs": [],
   "source": []
  }
 ],
 "metadata": {
  "kernelspec": {
   "display_name": "Python 3",
   "language": "python",
   "name": "python3"
  },
  "language_info": {
   "codemirror_mode": {
    "name": "ipython",
    "version": 3
   },
   "file_extension": ".py",
   "mimetype": "text/x-python",
   "name": "python",
   "nbconvert_exporter": "python",
   "pygments_lexer": "ipython3",
   "version": "3.8.3"
  }
 },
 "nbformat": 4,
 "nbformat_minor": 4
}
