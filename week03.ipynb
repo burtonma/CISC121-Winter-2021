{
 "cells": [
  {
   "cell_type": "markdown",
   "metadata": {},
   "source": [
    "# Week 03 Python lists"
   ]
  },
  {
   "cell_type": "markdown",
   "metadata": {},
   "source": [
    "## Lists\n",
    "\n",
    "The textbook uses the name array for Python lists. This is unfortunate because Python has a module named `array` that actually provides an array-like class. This notebook uses the correct name *list* for the data structure that is discussed in Chapter 1.4 of the textbook."
   ]
  },
  {
   "cell_type": "markdown",
   "metadata": {},
   "source": [
    "# List quick reference\n",
    "\n",
    "This section contains very short examples of list operations."
   ]
  },
  {
   "cell_type": "markdown",
   "metadata": {},
   "source": [
    "**Create an empty list**\n",
    "\n",
    "Use a matched pair of square brackets."
   ]
  },
  {
   "cell_type": "code",
   "execution_count": null,
   "metadata": {},
   "outputs": [],
   "source": [
    "t = []\n",
    "print(t)"
   ]
  },
  {
   "cell_type": "markdown",
   "metadata": {},
   "source": [
    "**Create a list from known values**\n",
    "\n",
    "Use a matched pair of square brackets with the elements of the list inside the brackets separated by commas."
   ]
  },
  {
   "cell_type": "code",
   "execution_count": null,
   "metadata": {},
   "outputs": [],
   "source": [
    "t = ['apple', 'banana', 'pear']\n",
    "t = [8, 6, 7, 5, 3, 0, 9]\n",
    "print(t)"
   ]
  },
  {
   "cell_type": "markdown",
   "metadata": {},
   "source": [
    "**Create a list with the values 0, 1, 2, ..., n**\n",
    "\n",
    "Create a `range` object and then use the list constructor."
   ]
  },
  {
   "cell_type": "code",
   "execution_count": null,
   "metadata": {},
   "outputs": [],
   "source": [
    "n = 10\n",
    "t = list(range(0, n + 1))\n",
    "print(t)"
   ]
  },
  {
   "cell_type": "markdown",
   "metadata": {},
   "source": [
    "**Create a list with n copies of an immutable type**\n",
    "\n",
    "If you need a list with $n$ copies of an immutable type object then use the `*` operator."
   ]
  },
  {
   "cell_type": "code",
   "execution_count": null,
   "metadata": {},
   "outputs": [],
   "source": [
    "n = 10\n",
    "t = [0] * n    # the list [0, 0, 0, 0, 0, 0, 0, 0, 0, 0]\n",
    "print(t)"
   ]
  },
  {
   "cell_type": "markdown",
   "metadata": {},
   "source": [
    "**Get the number of elements in a list**\n",
    "\n",
    "The function `len` returns the number of elements in a sequence."
   ]
  },
  {
   "cell_type": "code",
   "execution_count": null,
   "metadata": {},
   "outputs": [],
   "source": [
    "t = [1.1, 2.2, 3.3, 4.4]\n",
    "num_elems = len(t)\n",
    "print(num_elems)"
   ]
  },
  {
   "cell_type": "markdown",
   "metadata": {},
   "source": [
    "**Append an element to the end of a list**\n",
    "\n",
    "Use the `append` method to append an element to the end of a list."
   ]
  },
  {
   "cell_type": "code",
   "execution_count": null,
   "metadata": {},
   "outputs": [],
   "source": [
    "t = [1.1, 2.2, 3.3, 4.4]\n",
    "t.append(5.5)                 # t is now [1.1, 2.2, 3.3, 4.4, 5.5]\n",
    "print(t)"
   ]
  },
  {
   "cell_type": "markdown",
   "metadata": {},
   "source": [
    "**Append a list to the end of a list**\n",
    "\n",
    "Use the `+=` to append a list to the end of a list."
   ]
  },
  {
   "cell_type": "code",
   "execution_count": null,
   "metadata": {},
   "outputs": [],
   "source": [
    "rainbow = ['red', 'orange', 'yellow']\n",
    "rainbow += ['green', 'blue', 'indigo', 'violet']\n",
    "print(rainbow)"
   ]
  },
  {
   "cell_type": "markdown",
   "metadata": {},
   "source": [
    "**Get an element from the list using an index**\n",
    "\n",
    "A zero-based integer index can be used to get an element from a list. The index goes inside a pair of square brackets after the list name. It is an error to use an index greater than or equal to the length of the list."
   ]
  },
  {
   "cell_type": "code",
   "execution_count": null,
   "metadata": {},
   "outputs": [],
   "source": [
    "t = [1.1, 2.2, 3.3, 4.4]\n",
    "first = t[0]    # 1.1\n",
    "print(first)\n",
    "\n",
    "second = t[1]   # 2.2\n",
    "print(second)\n",
    "\n",
    "last = t[3]     # 4.4\n",
    "print(last)\n",
    "\n",
    "oops = t[4]     # IndexError"
   ]
  },
  {
   "cell_type": "markdown",
   "metadata": {},
   "source": [
    "**Negative indexes**\n",
    "\n",
    "The index `-i` means the `i`'th index from the end of the list where the end of the list is the (non-existing)\n",
    "element after the last element. Thus, `t[-1]` is the last element of the list, `t[-2]` is the second last element\n",
    "of the list, and so on."
   ]
  },
  {
   "cell_type": "code",
   "execution_count": null,
   "metadata": {},
   "outputs": [],
   "source": [
    "t = [1.1, 2.2, 3.3, 4.4]\n",
    "\n",
    "last = t[-1]           # 4.4\n",
    "print(last)\n",
    "\n",
    "second_last = t[-2]    # 3.3\n",
    "print(second_last)\n",
    "\n",
    "first = t[-4]          # 1.1\n",
    "print(first)\n",
    "\n",
    "oops = t[-5]           # IndexError"
   ]
  },
  {
   "cell_type": "markdown",
   "metadata": {},
   "source": [
    "**Set an element in the list using an index**\n",
    "\n",
    "For a list `t`, `t[i]` is the variable name of the list element at index `i`."
   ]
  },
  {
   "cell_type": "code",
   "execution_count": null,
   "metadata": {},
   "outputs": [],
   "source": [
    "t = [1.1, 2.2, 3.3, 4.4]\n",
    "t[0] = 100.0\n",
    "print(t)"
   ]
  },
  {
   "cell_type": "markdown",
   "metadata": {},
   "source": [
    "**Test if an element is in a list**\n",
    "\n",
    "Use the `in` operator to test if a list contains an element."
   ]
  },
  {
   "cell_type": "code",
   "execution_count": null,
   "metadata": {},
   "outputs": [],
   "source": [
    "t = [1.1, 2.2, 3.3, 4.4]\n",
    "\n",
    "has_value = 2.2 in t\n",
    "print(has_value)\n",
    "\n",
    "# in is usually used in a condition for an if statement\n",
    "if 5.5 in t:\n",
    "    print('5.5 is in t')\n",
    "else:\n",
    "    print('5.5 is not in t')"
   ]
  },
  {
   "cell_type": "markdown",
   "metadata": {},
   "source": [
    "**Find an element in a list**\n",
    "\n",
    "To find the first occurrence of an element in a list use the `index` method. The index of the element is returned. An error occurs if the element is not in the list."
   ]
  },
  {
   "cell_type": "code",
   "execution_count": null,
   "metadata": {},
   "outputs": [],
   "source": [
    "t = [1.1, 2.2, 3.3, 4.4]\n",
    "i = t.index(3.3)\n",
    "print(i)"
   ]
  },
  {
   "cell_type": "markdown",
   "metadata": {},
   "source": [
    "**Insert an element into the list using an index**\n",
    "\n",
    "To insert an element `elem` at index `i` of a list use the method `insert(i, elem)`. The existing elements at indexes `i` and beyond are moved one position down the list."
   ]
  },
  {
   "cell_type": "code",
   "execution_count": null,
   "metadata": {},
   "outputs": [],
   "source": [
    "t = [1.1, 2.2, 3.3, 4.4]\n",
    "t.insert(0, 0.0)         # insert at the front of the list\n",
    "print(t)\n",
    "t.insert(2, 2.1)         # insert at index 2\n",
    "print(t)\n",
    "t.insert(len(t), 5.5)    # insert at the end of the list, equivalent to append\n",
    "print(t)"
   ]
  },
  {
   "cell_type": "markdown",
   "metadata": {},
   "source": [
    "**Remove an element in the list using an index**\n",
    "\n",
    "To remove an element at index `i` of a list use the `del` statement."
   ]
  },
  {
   "cell_type": "code",
   "execution_count": null,
   "metadata": {},
   "outputs": [],
   "source": [
    "t = [1.1, 2.2, 3.3, 4.4]\n",
    "del t[0]                  # remove the first element of t\n",
    "print(t)\n",
    "del t[len(t) - 1]         # remove the last element of t\n",
    "print(t)"
   ]
  },
  {
   "cell_type": "markdown",
   "metadata": {},
   "source": [
    "**Remove an element in the list**\n",
    "\n",
    "To remove the first element equal to `elem` in a list use the `remove` method."
   ]
  },
  {
   "cell_type": "code",
   "execution_count": null,
   "metadata": {},
   "outputs": [],
   "source": [
    "t = [1.1, 2.2, 3.3, 4.4]\n",
    "t.remove(1.1)             # remove 1.1 from t\n",
    "print(t)\n",
    "t.remove(3.3)             # remove 3.3 from t\n",
    "print(t)\n",
    "t.remove(5.5)             # ValueError, no element equal to 5.5 in t"
   ]
  },
  {
   "cell_type": "markdown",
   "metadata": {},
   "source": [
    "**Make a copy of a list**\n",
    "\n",
    "Use the `copy` method to make a new list having the same elements as the original list. Be aware that the elements in the copied list are aliases for the elements in the other list. `copy` returns what is called a *shallow copy* of the original list."
   ]
  },
  {
   "cell_type": "code",
   "execution_count": null,
   "metadata": {},
   "outputs": [],
   "source": [
    "t = [5325, 8, 7, 6]\n",
    "u = t.copy()\n",
    "print(u)              # same elements as t\n",
    "print(u is t)         # u refers to a different list than t\n",
    "print(u[0] is t[0])   # the elements of u are aliases for the elements in t"
   ]
  },
  {
   "cell_type": "markdown",
   "metadata": {},
   "source": [
    "**Make a copy of a list using a slice**\n",
    "\n",
    "Slices are described towards the end of this quick reference. A slice of the entire list is a copy of the list."
   ]
  },
  {
   "cell_type": "code",
   "execution_count": null,
   "metadata": {},
   "outputs": [],
   "source": [
    "t = [5325, 8, 7, 6]\n",
    "u = t[:]\n",
    "print(u)              # same elements as t\n",
    "print(u is t)         # u refers to a different list than t\n",
    "print(u[0] is t[0])   # the elements of u are aliases for the elements in t"
   ]
  },
  {
   "cell_type": "markdown",
   "metadata": {},
   "source": [
    "**Clear a list**\n",
    "\n",
    "The `clear` method removes all of the elements from a list."
   ]
  },
  {
   "cell_type": "code",
   "execution_count": null,
   "metadata": {},
   "outputs": [],
   "source": [
    "t = [9, 8, 7, 6]\n",
    "t.clear()\n",
    "print(t)"
   ]
  },
  {
   "cell_type": "markdown",
   "metadata": {},
   "source": [
    "**Count the number of times an element appears in a list**\n",
    "\n",
    "The `count` method returns the number of times a specified element appears in a list."
   ]
  },
  {
   "cell_type": "code",
   "execution_count": null,
   "metadata": {},
   "outputs": [],
   "source": [
    "t = [1, 2, 2, 3, 3, 3, 4, 4, 4, 4]\n",
    "\n",
    "n_ones = t.count(1)\n",
    "print(n_ones)\n",
    "\n",
    "n_fours = t.count(4)\n",
    "print(n_fours)\n",
    "\n",
    "n_sixes = t.count(6)\n",
    "print(n_sixes)"
   ]
  },
  {
   "cell_type": "markdown",
   "metadata": {},
   "source": [
    "**Reverse a list**\n",
    "\n",
    "The `reverse` method reverses the order of the elements in a list."
   ]
  },
  {
   "cell_type": "code",
   "execution_count": null,
   "metadata": {},
   "outputs": [],
   "source": [
    "t = ['Python', 'Java', 'C', 'JavaScript']\n",
    "print('t: ' + str(t))\n",
    "\n",
    "t.reverse()\n",
    "print('t: ' + str(t))"
   ]
  },
  {
   "cell_type": "markdown",
   "metadata": {},
   "source": [
    "**Sort a list in ascending order**\n",
    "\n",
    "Use the `sort` method with no arguments to sort a list so that the elements are in ascending order."
   ]
  },
  {
   "cell_type": "code",
   "execution_count": null,
   "metadata": {},
   "outputs": [],
   "source": [
    "t = [4, 3, 1, 4, 2, 3, 4, 2, 3, 4]\n",
    "print('unsorted: ' + str(t))\n",
    "\n",
    "t.sort()\n",
    "print('sorted:   ' + str(t))"
   ]
  },
  {
   "cell_type": "markdown",
   "metadata": {},
   "source": [
    "**Sort a list in descending order**\n",
    "\n",
    "Use the `sort` method with the argument `reverse = True` to sort a list so that the elements are in descending order."
   ]
  },
  {
   "cell_type": "code",
   "execution_count": null,
   "metadata": {},
   "outputs": [],
   "source": [
    "t = [4, 3, 1, 4, 2, 3, 4, 2, 3, 4]\n",
    "print('unsorted: ' + str(t))\n",
    "\n",
    "t.sort(reverse = True)\n",
    "print('sorted:   ' + str(t))"
   ]
  },
  {
   "cell_type": "markdown",
   "metadata": {},
   "source": [
    "**Get a new list sorted in ascending order**\n",
    "\n",
    "Use the `sorted` function with no arguments to make a sorted copy of a list. The copied list will be sorted in ascending order. Be aware that the elements in the copied list are aliases for the elements in the other list."
   ]
  },
  {
   "cell_type": "code",
   "execution_count": null,
   "metadata": {},
   "outputs": [],
   "source": [
    "t = [4, 3, 1, 4, 2, 3, 4, 2, 3, 4, -1000]\n",
    "u = sorted(t)\n",
    "print('t: ' + str(t))\n",
    "print('u: ' + str(u))\n",
    "print(u[0] is t[len(t) - 1])    # same object in both lists"
   ]
  },
  {
   "cell_type": "markdown",
   "metadata": {},
   "source": [
    "**Get a new list sorted in descending order**\n",
    "\n",
    "Use the `sorted` function with the arugment `reverse = True` to make a sorted copy of a list. The copied list will be sorted in descending order. Be aware that the elements in the copied list are aliases for the elements in the other list."
   ]
  },
  {
   "cell_type": "code",
   "execution_count": null,
   "metadata": {},
   "outputs": [],
   "source": [
    "t = [4, 3, 1, 4, 2, 3, 4, 2, 3, 4, -1000]\n",
    "u = sorted(t, reverse = True)\n",
    "print('t: ' + str(t))\n",
    "print('u: ' + str(u))\n",
    "print(u[len(u) - 1] is t[len(t) - 1])    # same object in both lists"
   ]
  },
  {
   "cell_type": "markdown",
   "metadata": {},
   "source": [
    "**Get the first n elements of a list using a slice**"
   ]
  },
  {
   "cell_type": "code",
   "execution_count": null,
   "metadata": {},
   "outputs": [],
   "source": [
    "n = 3\n",
    "t = ['a', 'b', 'c', 'd', 'e', 'f', 'g']\n",
    "u = t[:n]\n",
    "print(u)"
   ]
  },
  {
   "cell_type": "markdown",
   "metadata": {},
   "source": [
    "**Get the last n elements of a list using a slice**"
   ]
  },
  {
   "cell_type": "code",
   "execution_count": null,
   "metadata": {},
   "outputs": [],
   "source": [
    "n = 3\n",
    "t = ['a', 'b', 'c', 'd', 'e', 'f', 'g']\n",
    "u = t[-n:]\n",
    "print(u)"
   ]
  },
  {
   "cell_type": "markdown",
   "metadata": {},
   "source": [
    "**Get the elements from index m to index n of a list using a slice**"
   ]
  },
  {
   "cell_type": "code",
   "execution_count": null,
   "metadata": {},
   "outputs": [],
   "source": [
    "m = 2\n",
    "n = 5\n",
    "t = ['a', 'b', 'c', 'd', 'e', 'f', 'g']\n",
    "u = t[m:n + 1]\n",
    "print(u)"
   ]
  },
  {
   "cell_type": "markdown",
   "metadata": {},
   "source": [
    "## Textbook section *1.4 Aliasing*\n",
    "\n",
    "This is where the ideas of references and identity become important. If you have a list `y` then the Python\n",
    "assignment statement\n",
    "\n",
    "```python\n",
    "x = y\n",
    "```\n",
    "\n",
    "means that the value of `y` is stored in `x`. What you need to remember is that `y` is a reference and its value\n",
    "is the identity (or memory address) of a list object. Thus, the value stored in `x` is the the memory address\n",
    "*of the same list object* that `y` refers to. We say that `x` and `y` are aliases (different names) for the\n",
    "same list object. The programmer can use either `x` or `y` to change the list object:"
   ]
  },
  {
   "cell_type": "code",
   "execution_count": null,
   "metadata": {},
   "outputs": [],
   "source": [
    "y = [100, 200, 300, 400]\n",
    "x = y\n",
    "x.remove(300)                # remove 300 using x\n",
    "print('y: ' + str(y))        # print using y"
   ]
  },
  {
   "cell_type": "markdown",
   "metadata": {},
   "source": [
    "Removing the element `300` using the variable `x` changes the list object that both `x` and `y` refer to; thus,\n",
    "when the list object is printed using `y` the value `300` is in fact not in the printed list."
   ]
  },
  {
   "cell_type": "markdown",
   "metadata": {},
   "source": [
    "## Textbook section *1.4 Copying and slicing*\n",
    "\n",
    "A slice of a list `t` returns a new list containing the elements from a specified part of the original list `t`.\n",
    "For example, a slice of the first three elements of `t` would return a new list containing references to the first\n",
    "three elements of `t`. The original list `t` is unchanged.\n",
    "\n",
    "You can obtain a slice of a list by specifying the start\n",
    "index followed by a colon followed by the stop index; the element at the \n",
    "stop index *is not included* as part of the slice; for example:"
   ]
  },
  {
   "cell_type": "code",
   "execution_count": null,
   "metadata": {},
   "outputs": [],
   "source": [
    "t = [1, 2, 3, 4, 5, 6]\n",
    "first_three = t[0:3]              # the list [1, 2, 3]\n",
    "first_three = t[:3]               # also the list [1, 2, 3]\n",
    "remaining = t[3:len(t)]           # the list [4, 5, 6]\n",
    "remaining = t[3:]                 # also the list [4, 5, 6]\n",
    "middle = t[2:3]                   # the list [3, 4]\n",
    "copy = t[:]  "
   ]
  },
  {
   "cell_type": "markdown",
   "metadata": {},
   "source": [
    "Notice that if you omit the start index then Python assumes a start index of 0,\n",
    "and if you omit the stop index then Python assumes a stop index equal to the \n",
    "length of the string.\n",
    "\n",
    "You can use negative indexing with slices; for example the slice of `t` that excludes the first and last element of\n",
    "`t` is:"
   ]
  },
  {
   "cell_type": "code",
   "execution_count": null,
   "metadata": {},
   "outputs": [],
   "source": [
    "t = ['a', 'b', 'c', 'd', 'e']\n",
    "u = t[1:-1]\n",
    "print(u)"
   ]
  },
  {
   "cell_type": "markdown",
   "metadata": {},
   "source": [
    "## Textbook section *1.4 Shuffle*\n",
    "\n",
    "The shuffling algorithm shown in the textbook is the [Fisher-Yates](https://en.wikipedia.org/wiki/Fisher%E2%80%93Yates_shuffle) algorithm. Somewhat amusingly, the textbook version actually runs one iteration too many; see\n",
    "the following exercise:\n",
    "\n",
    "**Exercise 1** In the shuffle program in the textbook, what is the largest value that `i` takes on in the loop?\n",
    "When `i` has its largest value, what is the value of `r`? Is the last iteration of the loop necessary?"
   ]
  },
  {
   "cell_type": "markdown",
   "metadata": {},
   "source": [
    "## Textbook section *1.4 Sampling without replacement*\n",
    "\n",
    "Here is a simple explanation of what is going on in the textbook code in this section:\n",
    "\n",
    "* `perm` is a list containing the indexes $0, 1, ..., n-1$ where $n$ is the number of elements in the set that\n",
    "you are drawing from\n",
    "* everything before `# write the results` shuffles the list `perm` so that the indexes are in some random order\n",
    "* the rest of the program simply prints the first $m$ elements of `perm`"
   ]
  },
  {
   "cell_type": "markdown",
   "metadata": {},
   "source": [
    "## Exercises\n",
    "\n",
    "The textbook exercises are all recommended. Some additional exercises can be found below:\n",
    "\n",
    "**Exercise 2** Complete the following program so that it prints `'in order'` if the list `t` is in sorted\n",
    "ascending order, and `'not in order'` otherwise. Your program should not modify the list `t` when determining\n",
    "if it is sorted or not. Test your program with different lists. "
   ]
  },
  {
   "cell_type": "code",
   "execution_count": null,
   "metadata": {},
   "outputs": [],
   "source": [
    "# Exercise 2\n",
    "t = [1, 2, 3, 4]\n"
   ]
  },
  {
   "cell_type": "markdown",
   "metadata": {},
   "source": [
    "**Exercise 3**\n",
    "The Fibonacci sequence starts with the two integer values $0, 1$. Each successive term in the sequence is the sum of the previous two terms. The first 10 terms of the sequence are $0, 1, 1, 2, 3, 5, 8, 13, 21, 34$. Write a\n",
    "program that creates a list containing the first $n$ terms of the Fibonacci sequence where $n \\geq 1$."
   ]
  },
  {
   "cell_type": "code",
   "execution_count": null,
   "metadata": {},
   "outputs": [],
   "source": [
    "# Exercise 3\n",
    "n = 10          # test different value of n\n"
   ]
  },
  {
   "cell_type": "markdown",
   "metadata": {},
   "source": [
    "**Exercise 4** Complete the following program so that it makes a new list `u` where the first, third, fifth, ..., third last, and last elements of `u` are the first, second, third, ..., second last, and last elements of `t`. All of the other elements of `u` should be equal to 0. In other words, `u` is the list made up of the elements of `t` with a 0 inserted between each elements."
   ]
  },
  {
   "cell_type": "code",
   "execution_count": null,
   "metadata": {},
   "outputs": [],
   "source": [
    "# Exercise 4\n",
    "t = [35, 56, 86, 86, 91, 71, 50, 55, 60]    # test different lists\n"
   ]
  },
  {
   "cell_type": "markdown",
   "metadata": {},
   "source": [
    "**Exercise 5** See Exercise 4. In the list `u` the second, fourth, sixth, ..., second last elements of `u` should\n",
    "all be 0. Replace these values with the average of the previous and successive values in `u`. In other words, the\n",
    "second element of `u` is equal to the average of the first and third elements of `u`, the fourth element of `u`\n",
    "is equal to the average of the third and fifth elements of `u`, and so on.\n",
    "\n",
    "This is a simple way of [upsampling a signal](https://en.wikipedia.org/wiki/Upsampling)."
   ]
  },
  {
   "cell_type": "code",
   "execution_count": null,
   "metadata": {},
   "outputs": [],
   "source": [
    "# Exercise 4\n",
    "t = [35, 56, 86, 86, 91, 71, 50, 55, 60]    # test different lists\n"
   ]
  },
  {
   "cell_type": "markdown",
   "metadata": {},
   "source": [
    "**Exercise 6** See Exercise 1.4.29 in the textbook. Answer the question without making a new list and without\n",
    "modifying the original list."
   ]
  },
  {
   "cell_type": "markdown",
   "metadata": {},
   "source": [
    "**Exercise 7** Complete the following program so that it finds the maximum element in the list `t`. Do not modify\n",
    "the list `t` or make a new list."
   ]
  },
  {
   "cell_type": "code",
   "execution_count": null,
   "metadata": {},
   "outputs": [],
   "source": [
    "import random\n",
    "\n",
    "t = random.choices(range(1, 50), k=20)\n",
    "print(t)"
   ]
  },
  {
   "cell_type": "markdown",
   "metadata": {},
   "source": [
    "**Exercise 8** Complete the following program so that it finds the minimum element in the list `t`. Do not modify\n",
    "the list `t` or make a new list."
   ]
  },
  {
   "cell_type": "code",
   "execution_count": null,
   "metadata": {},
   "outputs": [],
   "source": [
    "import random\n",
    "\n",
    "t = random.choices(range(1, 50), k=20)\n",
    "print(t)"
   ]
  },
  {
   "cell_type": "markdown",
   "metadata": {},
   "source": [
    "**Exercise 9** In the program below, the lists `t` and `u` might have values that are in common (values that \n",
    "appear in both lists). Complete the program so that it creates a new list containing all of values that are in common between the lists `t` and `u`. Neither `t` nor `u` contains duplicated values. Do not modify the lists `t`\n",
    "or `u`, or make copies of the lists.\n",
    "\n",
    "This is the set intersection problem."
   ]
  },
  {
   "cell_type": "code",
   "execution_count": null,
   "metadata": {},
   "outputs": [],
   "source": [
    "import random\n",
    "\n",
    "t = random.sample(range(1, 50), k=20)\n",
    "print(t)\n",
    "u = random.sample(range(1, 50), k=20)\n",
    "print(u)\n"
   ]
  }
 ],
 "metadata": {
  "kernelspec": {
   "display_name": "Python 3",
   "language": "python",
   "name": "python3"
  },
  "language_info": {
   "codemirror_mode": {
    "name": "ipython",
    "version": 3
   },
   "file_extension": ".py",
   "mimetype": "text/x-python",
   "name": "python",
   "nbconvert_exporter": "python",
   "pygments_lexer": "ipython3",
   "version": "3.8.3"
  }
 },
 "nbformat": 4,
 "nbformat_minor": 4
}
