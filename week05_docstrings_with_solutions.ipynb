{
 "cells": [
  {
   "cell_type": "markdown",
   "metadata": {},
   "source": [
    "# Week 05 Functions\n",
    "\n",
    "Python functions are usually documented by including a string literal called a *docstring* at the beginning\n",
    "of the function. The docstring should include information such as a description of the purpose of the function,\n",
    "the pre and postconditions of the function, and any exceptions that can be raised by the function.\n",
    "\n",
    "In other words, the docstring should contain a description of the contract of the function."
   ]
  },
  {
   "cell_type": "markdown",
   "metadata": {},
   "source": [
    "# Documenting functions\n",
    "\n",
    "Every function should be documented using a *docstring*. A docstring is a string literal that occurs as the\n",
    "first statement in a function. A docstring should always use triple double quotes (a triple quoted string\n",
    "in Python can span multiple lines).\n",
    "\n",
    "One problem with documenting Python code is that there is no single standard format (unlike Java, for example,\n",
    "where the Javadoc standard is universally used). We will use the NumPy docstring standard in this course\n",
    "which is [documented here](https://numpydoc.readthedocs.io/en/latest/format.html#docstring-standard). An example\n",
    "of a documented function is shown in the next cell."
   ]
  },
  {
   "cell_type": "code",
   "execution_count": 36,
   "metadata": {},
   "outputs": [],
   "source": [
    "import math\n",
    "\n",
    "def real_sqrt(x):\n",
    "    \"\"\"\n",
    "    Return the real-valued square root.\n",
    "    \n",
    "    A function that requires more explanation would have one or more sections\n",
    "    here to elaborate on the description of the function. This section should\n",
    "    be used to clarify functionality, not to discuss implementation detail or\n",
    "    background theory.\n",
    "    \n",
    "    Parameters\n",
    "    ----------\n",
    "    x : int or float\n",
    "        The value to compute the square root of.\n",
    "        \n",
    "    Returns\n",
    "    -------\n",
    "    float\n",
    "        The real-valued square root of `x`\n",
    "        \n",
    "    Raises\n",
    "    ------\n",
    "    ValueError\n",
    "        If `x` is less than zero.\n",
    "    \n",
    "    \"\"\"\n",
    "    if x <= 0:\n",
    "        raise ValueError('real_sqrt() not defined for a negative value, x = ' + str(x))\n",
    "    return math.sqrt(x)"
   ]
  },
  {
   "cell_type": "markdown",
   "metadata": {},
   "source": [
    "Software tools exist that can read your Python source code and extract the docstrings to generate a nicely\n",
    "formatted document ([Sphinx](https://www.sphinx-doc.org/en/master/) is the most widely used tool for Python,\n",
    "but other tools exist).\n",
    "\n",
    "The Python function `help` will return the docstring for a function; for example, we can get the docstring\n",
    "for `real_sqrt` like so (run the cell):"
   ]
  },
  {
   "cell_type": "code",
   "execution_count": 37,
   "metadata": {},
   "outputs": [
    {
     "name": "stdout",
     "output_type": "stream",
     "text": [
      "Help on function real_sqrt in module __main__:\n",
      "\n",
      "real_sqrt(x)\n",
      "    Return the real-valued square root.\n",
      "    \n",
      "    A function that requires more explanation would have one or more sections\n",
      "    here to elaborate on the description of the function. This section should\n",
      "    be used to clarify functionality, not to discuss implementation detail or\n",
      "    background theory.\n",
      "    \n",
      "    Parameters\n",
      "    ----------\n",
      "    x : int or float\n",
      "        The value to compute the square root of.\n",
      "        \n",
      "    Returns\n",
      "    -------\n",
      "    float\n",
      "        The real-valued square root of `x`\n",
      "        \n",
      "    Raises\n",
      "    ------\n",
      "    ValueError\n",
      "        If `x` is less than zero.\n",
      "\n"
     ]
    }
   ],
   "source": [
    "help(real_sqrt)"
   ]
  },
  {
   "cell_type": "markdown",
   "metadata": {},
   "source": [
    "For our purposes, a docstring has the following sections:\n",
    "\n",
    "1. Short summary\n",
    "2. Extended summary\n",
    "3. Parameters\n",
    "4. Returns\n",
    "5. Raises\n",
    "\n",
    "Each section should be separated from the previous section using a single blank line.\n",
    "\n",
    "***Short summary*** Every docstring begins with a one-line summary of the function. The summary *should not*\n",
    "use the variable names or the function name.\n",
    "\n",
    "***Extended summary*** If needed, an extended summary section can be included that clarifies the\n",
    "functionality of the function (what the function does), not to discuss implementation detail or background theory\n",
    "(how the function does what it does). You can refer to parameters by name in this section; if you do so then\n",
    "you should use back ticks around the parameter name (for example, `` `x` ``).\n",
    "\n",
    "***Parameters*** This section begins with\n",
    "\n",
    "```\n",
    "Parameters\n",
    "----------\n",
    "```\n",
    "\n",
    "List each parameter followed by a space, colon, space, followed by the type of the parameter; if the type is not\n",
    "important then simply list the parameter name.\n",
    "\n",
    "Indent the next line and include a short description of the parameter.\n",
    "\n",
    "***Returns*** This section begins with\n",
    "\n",
    "```\n",
    "Returns\n",
    "-------\n",
    "```\n",
    "\n",
    "List the type of the returned value.\n",
    "\n",
    "Indent the next line and include a short description of the returned value.\n",
    "\n",
    "***Raises*** This section begins with\n",
    "\n",
    "```\n",
    "Raises\n",
    "------\n",
    "```\n",
    "\n",
    "List the type of each exception that can be raised by the function.\n",
    "\n",
    "Indent the next line and include a short description of what conditions cause the exception to be raised.\n"
   ]
  },
  {
   "cell_type": "markdown",
   "metadata": {},
   "source": [
    "The fully documented `last` function is shown in the next cell:"
   ]
  },
  {
   "cell_type": "code",
   "execution_count": null,
   "metadata": {},
   "outputs": [],
   "source": [
    "def last(t):\n",
    "    \"\"\"\n",
    "    Return the last element of a non-empty sequence.\n",
    "    \n",
    "    Parameters\n",
    "    ----------\n",
    "    t : a sequence\n",
    "        The sequence to get the last element from.\n",
    "        \n",
    "    Returns\n",
    "    -------\n",
    "    unknown\n",
    "        The last element of `t`\n",
    "        \n",
    "    Raises\n",
    "    ------\n",
    "    ValueError\n",
    "        If `t` is empty.\n",
    "    \n",
    "    \"\"\"\n",
    "    if not t:    # Python idiom for testing for an empty list\n",
    "        raise ValueError('last() no last element of an empty list')\n",
    "    return t[-1]"
   ]
  },
  {
   "cell_type": "markdown",
   "metadata": {},
   "source": [
    "Notice the use of the type `unknown` to indicate that the return type is unknown (because we don't know the \n",
    "type of the last element in the list `t`)."
   ]
  },
  {
   "cell_type": "code",
   "execution_count": 38,
   "metadata": {},
   "outputs": [],
   "source": [
    "def to_minute(hour, minute, indicator):\n",
    "    \"\"\"\n",
    "    Return the number of minutes after midnight for a time on a 12-hour clock.\n",
    "    \n",
    "    Parameters\n",
    "    ----------\n",
    "    hour : int\n",
    "        The hour on a 12-hour clock (between 1 and 12, inclusive)\n",
    "    minute : int\n",
    "        The minute on a 12-hour clock (between 0 and 59, inclusive)\n",
    "    indicator : str\n",
    "        The AM/PM indicator on a 12-hour clock ('AM' or 'PM')\n",
    "        \n",
    "    Returns\n",
    "    -------\n",
    "    int\n",
    "        The number of minutes after midnight equal to the given time.\n",
    "        \n",
    "    Raises\n",
    "    ------\n",
    "    ValueError\n",
    "        If `hour` not between 1 and 12, or `minute` is not between 0 and 59,\n",
    "        or `indicator` is not one of 'AM' or 'PM'\n",
    "    \"\"\"\n",
    "    \n",
    "    if hour < 1 or hour > 12:\n",
    "        raise ValueError('to_minute() hour must be between 1 and 12, hour = ' + str(hour))\n",
    "    if minute < 0 or minute > 59:\n",
    "        raise ValueError('to_minute() hour must be between 0 and 59, minute = ' + str(minute))\n",
    "    if indicator != 'AM' and indicator != 'PM':\n",
    "        raise ValueError('to_minute() indicator must be \\'AM\\' or \\'PM\\', indicator = ' + indicator)\n",
    "    \n",
    "    MIN_PER_HOUR = 60\n",
    "    result = (hour % 12) * MIN_PER_HOUR + minute\n",
    "    if indicator == 'PM':\n",
    "        result += 12 * MIN_PER_HOUR\n",
    "    return result"
   ]
  },
  {
   "cell_type": "markdown",
   "metadata": {},
   "source": [
    "**Exercise 1** Document the textbook function `harmonic` in the cell below. You can find the `harmonic` function\n",
    "near the beginning of Chapter 2.1."
   ]
  },
  {
   "cell_type": "code",
   "execution_count": 40,
   "metadata": {},
   "outputs": [],
   "source": [
    "def harmonic(n):\n",
    "    total = 0.0\n",
    "    for i in range(1, n + 1):\n",
    "        total += 1.0 / i\n",
    "    return total"
   ]
  },
  {
   "cell_type": "code",
   "execution_count": 40,
   "metadata": {},
   "outputs": [],
   "source": [
    "def harmonic(n):\n",
    "    \"\"\"\n",
    "    Return the value of a harmonic number.\n",
    "    \n",
    "    The `n`-th harmonic number is defined as the sum 1 + 1/2 + 1/3 + ... + 1/n for\n",
    "    integer values of `n` >= 1\n",
    "    \n",
    "    Parameters\n",
    "    ----------\n",
    "    n : int\n",
    "        The specified harmonic number\n",
    "        \n",
    "    Returns\n",
    "    -------\n",
    "    float\n",
    "        The n'th harmonic number\n",
    "    \"\"\"\n",
    "    total = 0.0\n",
    "    for i in range(1, n + 1):\n",
    "        total += 1.0 / i\n",
    "    return total"
   ]
  },
  {
   "cell_type": "markdown",
   "metadata": {},
   "source": [
    "**Exercise 2** Document the textbook function `isPrime` in the cell below. You can find the `isPrime` function\n",
    "in Chapter 2.1 under the section *Multiple return statements*."
   ]
  },
  {
   "cell_type": "code",
   "execution_count": 41,
   "metadata": {},
   "outputs": [],
   "source": [
    "def isPrime(n):\n",
    "    \"\"\"\n",
    "    Is a number prime?\n",
    "    \n",
    "    The natural number `n` is prime if it is a value greater than or equal to 2 and it has\n",
    "    no natural number divisors except for 1 and itself.\n",
    "    \n",
    "    Parameters\n",
    "    ----------\n",
    "    n : int\n",
    "        The specified number to test for primality\n",
    "        \n",
    "    Returns\n",
    "    -------\n",
    "    bool\n",
    "        True if `n` is prime, False otherwise\n",
    "    \"\"\"\n",
    "    if n < 2: \n",
    "        return False\n",
    "    i = 2\n",
    "    while i*i <= n:\n",
    "        if n % i == 0: return False\n",
    "        i += 1\n",
    "    return True"
   ]
  },
  {
   "cell_type": "markdown",
   "metadata": {},
   "source": [
    "**Exercise 3** Document the textbook function `exchange` in the cell below. You can find the `exchange` function\n",
    "in Chapter 2.1 under the section *Side effects with arrays*."
   ]
  },
  {
   "cell_type": "code",
   "execution_count": 3,
   "metadata": {},
   "outputs": [],
   "source": [
    "def exchange(a, i, j):\n",
    "    \"\"\"\n",
    "    Swap two elemements of a sequence.\n",
    "    \n",
    "    Swaps the values of a[i] and a[j] leaving all other elements in place.\n",
    "    \n",
    "    Parameters\n",
    "    ----------\n",
    "    a : a sequence\n",
    "        The sequence to swap elements in\n",
    "    i : int\n",
    "        An index for one of the elements to swap\n",
    "    j : int\n",
    "        An index for the other element to swap\n",
    "\n",
    "    Raises\n",
    "    ------\n",
    "    IndexError\n",
    "        If `i` or `j` are out of range\n",
    "    \"\"\"\n",
    "    temp = a[i]\n",
    "    a[i] = a[j]\n",
    "    a[j] = temp"
   ]
  },
  {
   "cell_type": "markdown",
   "metadata": {},
   "source": [
    "**Exercise 4** Document the textbook function `shuffle` in the cell below. You can find the `shuffle` function\n",
    "in Chapter 2.1 under the section *Side effects with arrays*."
   ]
  },
  {
   "cell_type": "code",
   "execution_count": 42,
   "metadata": {},
   "outputs": [],
   "source": [
    "def shuffle(a):\n",
    "    \"\"\"\n",
    "    Shuffle the elements of a sequence.\n",
    "    \n",
    "    Randomly re-orders the elements of `a`.\n",
    "    \n",
    "    Parameters\n",
    "    ----------\n",
    "    a : a sequence\n",
    "        The sequence to shuffle\n",
    "    \"\"\"\n",
    "    n = len(a)\n",
    "    for i in range(n):\n",
    "        r = random.randrange(i, n)\n",
    "        exchange(a, i, r)"
   ]
  },
  {
   "cell_type": "markdown",
   "metadata": {},
   "source": [
    "**Exercise 5** Document the textbook function `randomarray` in the cell below. You can find the `randomarray`\n",
    "function in Chapter 2.1 under the section *Arrays as return values*."
   ]
  },
  {
   "cell_type": "code",
   "execution_count": 42,
   "metadata": {},
   "outputs": [],
   "source": [
    "def randomarray(n):\n",
    "    \"\"\"\n",
    "    Return a list of random float values.\n",
    "    \n",
    "    The returned list has `n` elements each having a random value between 0.0 (inclusive) and\n",
    "    1.0 (exclusive).\n",
    "    \n",
    "    Parameters\n",
    "    ----------\n",
    "    n : int\n",
    "        The length of the returned list\n",
    "    \"\"\"\n",
    "    a = stdarray.create1D(n)\n",
    "    for i in range(n):\n",
    "        a[i] = random.random()\n",
    "    return a"
   ]
  }
 ],
 "metadata": {
  "kernelspec": {
   "display_name": "Python 3",
   "language": "python",
   "name": "python3"
  },
  "language_info": {
   "codemirror_mode": {
    "name": "ipython",
    "version": 3
   },
   "file_extension": ".py",
   "mimetype": "text/x-python",
   "name": "python",
   "nbconvert_exporter": "python",
   "pygments_lexer": "ipython3",
   "version": "3.7.6"
  }
 },
 "nbformat": 4,
 "nbformat_minor": 4
}
